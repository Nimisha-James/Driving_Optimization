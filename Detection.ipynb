{
  "cells": [
    {
      "cell_type": "markdown",
      "metadata": {
        "colab_type": "text",
        "id": "view-in-github"
      },
      "source": [
        "<a href=\"https://colab.research.google.com/github/TakshDhabalia/Driving_Optimization/blob/main/Detection.ipynb\" target=\"_parent\"><img src=\"https://colab.research.google.com/assets/colab-badge.svg\" alt=\"Open In Colab\"/></a>"
      ]
    },
    {
      "cell_type": "code",
      "execution_count": 24,
      "metadata": {
        "id": "-PFe5ofLNte4"
      },
      "outputs": [],
      "source": [
        "import cv2 \n",
        "import numpy as np \n"
      ]
    },
    {
      "cell_type": "code",
      "execution_count": 25,
      "metadata": {},
      "outputs": [],
      "source": [
        "cap = cv2.VideoCapture('video.mp4')"
      ]
    },
    {
      "cell_type": "code",
      "execution_count": 26,
      "metadata": {},
      "outputs": [],
      "source": [
        "min_width = 80 \n",
        "min_height = 80\n",
        "count_line_posotion = 550 \n",
        "algo  = cv2.createBackgroundSubtractorMOG2()"
      ]
    },
    {
      "cell_type": "code",
      "execution_count": 34,
      "metadata": {},
      "outputs": [
        {
          "name": "stdout",
          "output_type": "stream",
          "text": [
            "Failed to read frame from capture.\n"
          ]
        }
      ],
      "source": [
        "while True:\n",
        "    ret, frame1 = cap.read()\n",
        "    \n",
        "    if not ret:  # Check if frame reading was successful\n",
        "        print(\"Failed to read frame from capture.\")\n",
        "        break  # Exit the loop if reading fails\n",
        "    \n",
        "    grey = cv2.cvtColor(frame1, cv2.COLOR_BGR2GRAY)\n",
        "    blur = cv2.GaussianBlur(grey, (3, 3), 5)\n",
        "    img_sub = algo.apply(blur)\n",
        "    dilat = cv2.dilate(img_sub, np.ones((5, 5)))\n",
        "    kernal = cv2.getStructuringElement(cv2.MORPH_ELLIPSE, (5, 5))\n",
        "    dilatada = cv2.morphologyEx(dilat, cv2.MORPH_CLOSE, kernal)\n",
        "    dilatada = cv2.morphologyEx(dilatada, cv2.MORPH_CLOSE, kernal)\n",
        "    counterShape = cv2.findContours(dilatada, cv2.RETR_TREE, cv2.CHAIN_APPROX_SIMPLE)\n",
        "    \n",
        "    cv2.line(frame1, (25, count_line_posotion), (1200, count_line_posotion), (255, 127, 0), 3)\n",
        "\n",
        "    cv2.imshow('Frame', frame1)\n",
        "    if cv2.waitKey(1) & 0xFF == ord('q'):\n",
        "        break\n",
        "\n",
        "cap.release()\n",
        "cv2.destroyAllWindows()\n"
      ]
    },
    {
      "cell_type": "code",
      "execution_count": 35,
      "metadata": {},
      "outputs": [
        {
          "ename": "error",
          "evalue": "OpenCV(4.8.0) :-1: error: (-5:Bad argument) in function 'boundingRect'\n> Overload resolution failed:\n>  - array is not a numerical tuple\n>  - Expected Ptr<cv::UMat> for argument 'array'\n",
          "output_type": "error",
          "traceback": [
            "\u001b[1;31m---------------------------------------------------------------------------\u001b[0m",
            "\u001b[1;31merror\u001b[0m                                     Traceback (most recent call last)",
            "Cell \u001b[1;32mIn[35], line 2\u001b[0m\n\u001b[0;32m      1\u001b[0m \u001b[38;5;28;01mfor\u001b[39;00m (i,c) \u001b[38;5;129;01min\u001b[39;00m \u001b[38;5;28menumerate\u001b[39m(counterShape):\n\u001b[1;32m----> 2\u001b[0m     (x,y,w,h) \u001b[38;5;241m=\u001b[39m \u001b[43mcv2\u001b[49m\u001b[38;5;241;43m.\u001b[39;49m\u001b[43mboundingRect\u001b[49m\u001b[43m(\u001b[49m\u001b[43mc\u001b[49m\u001b[43m)\u001b[49m\n\u001b[0;32m      3\u001b[0m     validate_encounter \u001b[38;5;241m=\u001b[39m (w\u001b[38;5;241m>\u001b[39m\u001b[38;5;241m=\u001b[39m min_width) \u001b[38;5;129;01mand\u001b[39;00m (h\u001b[38;5;241m>\u001b[39m\u001b[38;5;241m=\u001b[39mmin_height)\n\u001b[0;32m      4\u001b[0m     \u001b[38;5;28;01mif\u001b[39;00m \u001b[38;5;129;01mnot\u001b[39;00m validate_encounter:\n",
            "\u001b[1;31merror\u001b[0m: OpenCV(4.8.0) :-1: error: (-5:Bad argument) in function 'boundingRect'\n> Overload resolution failed:\n>  - array is not a numerical tuple\n>  - Expected Ptr<cv::UMat> for argument 'array'\n"
          ]
        }
      ],
      "source": [
        "for (i,c) in enumerate(counterShape):\n",
        "    (x,y,w,h) = cv2.boundingRect(c)\n",
        "    validate_encounter = (w>= min_width) and (h>=min_height)\n",
        "    if not validate_encounter:\n",
        "        continue\n",
        "    cv2.rectange(frame1 , (x,y), (x+w , y+h) , (0,0,255) , 2)"
      ]
    }
  ],
  "metadata": {
    "colab": {
      "authorship_tag": "ABX9TyMc3SSnMTjbb54ILUqaHY2R",
      "include_colab_link": true,
      "provenance": []
    },
    "kernelspec": {
      "display_name": "Python 3",
      "name": "python3"
    },
    "language_info": {
      "codemirror_mode": {
        "name": "ipython",
        "version": 3
      },
      "file_extension": ".py",
      "mimetype": "text/x-python",
      "name": "python",
      "nbconvert_exporter": "python",
      "pygments_lexer": "ipython3",
      "version": "3.10.9"
    }
  },
  "nbformat": 4,
  "nbformat_minor": 0
}
